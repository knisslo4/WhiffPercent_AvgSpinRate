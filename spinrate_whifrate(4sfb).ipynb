{
 "cells": [
  {
   "cell_type": "code",
   "execution_count": 251,
   "metadata": {},
   "outputs": [],
   "source": [
    "# Using data from Baseball Savant, I was trying to see if there is any corrolation between the average spin rate on an MLB pitcher's\n",
    "# four-seam fastball and a pitcher's swing and miss rate (whiff%). My hypothesis is yes; the more you can spin your fastball, the more\n",
    "# swing and miss you will generate. "
   ]
  },
  {
   "cell_type": "code",
   "execution_count": 252,
   "metadata": {},
   "outputs": [
    {
     "name": "stdout",
     "output_type": "stream",
     "text": [
      "Requirement already satisfied: scikit-learn in /Library/Frameworks/Python.framework/Versions/3.11/lib/python3.11/site-packages (1.3.0)\n",
      "Requirement already satisfied: numpy>=1.17.3 in /Library/Frameworks/Python.framework/Versions/3.11/lib/python3.11/site-packages (from scikit-learn) (1.25.2)\n",
      "Requirement already satisfied: scipy>=1.5.0 in /Library/Frameworks/Python.framework/Versions/3.11/lib/python3.11/site-packages (from scikit-learn) (1.11.2)\n",
      "Requirement already satisfied: joblib>=1.1.1 in /Library/Frameworks/Python.framework/Versions/3.11/lib/python3.11/site-packages (from scikit-learn) (1.3.2)\n",
      "Requirement already satisfied: threadpoolctl>=2.0.0 in /Library/Frameworks/Python.framework/Versions/3.11/lib/python3.11/site-packages (from scikit-learn) (3.2.0)\n",
      "\n",
      "\u001b[1m[\u001b[0m\u001b[34;49mnotice\u001b[0m\u001b[1;39;49m]\u001b[0m\u001b[39;49m A new release of pip is available: \u001b[0m\u001b[31;49m23.1.2\u001b[0m\u001b[39;49m -> \u001b[0m\u001b[32;49m23.2.1\u001b[0m\n",
      "\u001b[1m[\u001b[0m\u001b[34;49mnotice\u001b[0m\u001b[1;39;49m]\u001b[0m\u001b[39;49m To update, run: \u001b[0m\u001b[32;49mpip3 install --upgrade pip\u001b[0m\n",
      "Note: you may need to restart the kernel to use updated packages.\n"
     ]
    }
   ],
   "source": [
    "pip install scikit-learn"
   ]
  },
  {
   "cell_type": "code",
   "execution_count": 253,
   "metadata": {},
   "outputs": [],
   "source": [
    "import pandas as pd\n",
    "import numpy as np \n",
    "import scipy.stats as stats\n",
    "import matplotlib.pyplot as plt\n",
    "from sklearn.linear_model import LinearRegression\n"
   ]
  },
  {
   "cell_type": "code",
   "execution_count": 254,
   "metadata": {},
   "outputs": [],
   "source": [
    "# Uploaded both csv files from Baseball Savant, one containing a pitcher's whiff% on their four-seam fastball\n",
    "# and the other containing the average spin rate on their four-seam fastball"
   ]
  },
  {
   "cell_type": "code",
   "execution_count": 255,
   "metadata": {},
   "outputs": [
    {
     "data": {
      "text/html": [
       "<div>\n",
       "<style scoped>\n",
       "    .dataframe tbody tr th:only-of-type {\n",
       "        vertical-align: middle;\n",
       "    }\n",
       "\n",
       "    .dataframe tbody tr th {\n",
       "        vertical-align: top;\n",
       "    }\n",
       "\n",
       "    .dataframe thead th {\n",
       "        text-align: right;\n",
       "    }\n",
       "</style>\n",
       "<table border=\"1\" class=\"dataframe\">\n",
       "  <thead>\n",
       "    <tr style=\"text-align: right;\">\n",
       "      <th></th>\n",
       "      <th>last_name</th>\n",
       "      <th>first_name</th>\n",
       "      <th>player_id</th>\n",
       "      <th>team_name_alt</th>\n",
       "      <th>pitch_type</th>\n",
       "      <th>pitch_name</th>\n",
       "      <th>run_value_per_100</th>\n",
       "      <th>run_value</th>\n",
       "      <th>pitches</th>\n",
       "      <th>pitch_usage</th>\n",
       "      <th>...</th>\n",
       "      <th>ba</th>\n",
       "      <th>slg</th>\n",
       "      <th>woba</th>\n",
       "      <th>whiff_percent</th>\n",
       "      <th>k_percent</th>\n",
       "      <th>put_away</th>\n",
       "      <th>est_ba</th>\n",
       "      <th>est_slg</th>\n",
       "      <th>est_woba</th>\n",
       "      <th>hard_hit_percent</th>\n",
       "    </tr>\n",
       "  </thead>\n",
       "  <tbody>\n",
       "    <tr>\n",
       "      <th>0</th>\n",
       "      <td>Rodón</td>\n",
       "      <td>Carlos</td>\n",
       "      <td>607074</td>\n",
       "      <td>SF</td>\n",
       "      <td>FF</td>\n",
       "      <td>4-Seamer</td>\n",
       "      <td>1.2</td>\n",
       "      <td>22</td>\n",
       "      <td>1826</td>\n",
       "      <td>61.2</td>\n",
       "      <td>...</td>\n",
       "      <td>0.213</td>\n",
       "      <td>0.358</td>\n",
       "      <td>0.290</td>\n",
       "      <td>27.9</td>\n",
       "      <td>30.5</td>\n",
       "      <td>24.1</td>\n",
       "      <td>0.206</td>\n",
       "      <td>0.347</td>\n",
       "      <td>0.278</td>\n",
       "      <td>44.8</td>\n",
       "    </tr>\n",
       "    <tr>\n",
       "      <th>1</th>\n",
       "      <td>Gilbert</td>\n",
       "      <td>Logan</td>\n",
       "      <td>669302</td>\n",
       "      <td>SEA</td>\n",
       "      <td>FF</td>\n",
       "      <td>4-Seamer</td>\n",
       "      <td>0.7</td>\n",
       "      <td>12</td>\n",
       "      <td>1626</td>\n",
       "      <td>53.9</td>\n",
       "      <td>...</td>\n",
       "      <td>0.259</td>\n",
       "      <td>0.439</td>\n",
       "      <td>0.337</td>\n",
       "      <td>23.7</td>\n",
       "      <td>22.5</td>\n",
       "      <td>20.5</td>\n",
       "      <td>0.261</td>\n",
       "      <td>0.444</td>\n",
       "      <td>0.339</td>\n",
       "      <td>50.5</td>\n",
       "    </tr>\n",
       "    <tr>\n",
       "      <th>2</th>\n",
       "      <td>McKenzie</td>\n",
       "      <td>Triston</td>\n",
       "      <td>663474</td>\n",
       "      <td>CLE</td>\n",
       "      <td>FF</td>\n",
       "      <td>4-Seamer</td>\n",
       "      <td>1.1</td>\n",
       "      <td>17</td>\n",
       "      <td>1575</td>\n",
       "      <td>56.1</td>\n",
       "      <td>...</td>\n",
       "      <td>0.202</td>\n",
       "      <td>0.357</td>\n",
       "      <td>0.289</td>\n",
       "      <td>19.6</td>\n",
       "      <td>18.4</td>\n",
       "      <td>17.4</td>\n",
       "      <td>0.241</td>\n",
       "      <td>0.450</td>\n",
       "      <td>0.336</td>\n",
       "      <td>46.9</td>\n",
       "    </tr>\n",
       "    <tr>\n",
       "      <th>3</th>\n",
       "      <td>Cole</td>\n",
       "      <td>Gerrit</td>\n",
       "      <td>543037</td>\n",
       "      <td>NYY</td>\n",
       "      <td>FF</td>\n",
       "      <td>4-Seamer</td>\n",
       "      <td>0.5</td>\n",
       "      <td>8</td>\n",
       "      <td>1698</td>\n",
       "      <td>51.9</td>\n",
       "      <td>...</td>\n",
       "      <td>0.221</td>\n",
       "      <td>0.420</td>\n",
       "      <td>0.313</td>\n",
       "      <td>28.9</td>\n",
       "      <td>33.8</td>\n",
       "      <td>24.8</td>\n",
       "      <td>0.216</td>\n",
       "      <td>0.398</td>\n",
       "      <td>0.300</td>\n",
       "      <td>47.6</td>\n",
       "    </tr>\n",
       "    <tr>\n",
       "      <th>4</th>\n",
       "      <td>Pivetta</td>\n",
       "      <td>Nick</td>\n",
       "      <td>601713</td>\n",
       "      <td>BOS</td>\n",
       "      <td>FF</td>\n",
       "      <td>4-Seamer</td>\n",
       "      <td>0.6</td>\n",
       "      <td>9</td>\n",
       "      <td>1572</td>\n",
       "      <td>51.0</td>\n",
       "      <td>...</td>\n",
       "      <td>0.236</td>\n",
       "      <td>0.442</td>\n",
       "      <td>0.341</td>\n",
       "      <td>21.1</td>\n",
       "      <td>21.6</td>\n",
       "      <td>19.8</td>\n",
       "      <td>0.249</td>\n",
       "      <td>0.466</td>\n",
       "      <td>0.357</td>\n",
       "      <td>48.8</td>\n",
       "    </tr>\n",
       "  </tbody>\n",
       "</table>\n",
       "<p>5 rows × 21 columns</p>\n",
       "</div>"
      ],
      "text/plain": [
       "  last_name  first_name  player_id team_name_alt pitch_type pitch_name  \\\n",
       "0     Rodón      Carlos     607074            SF         FF   4-Seamer   \n",
       "1   Gilbert       Logan     669302           SEA         FF   4-Seamer   \n",
       "2  McKenzie     Triston     663474           CLE         FF   4-Seamer   \n",
       "3      Cole      Gerrit     543037           NYY         FF   4-Seamer   \n",
       "4   Pivetta        Nick     601713           BOS         FF   4-Seamer   \n",
       "\n",
       "   run_value_per_100  run_value  pitches  pitch_usage  ...     ba    slg  \\\n",
       "0                1.2         22     1826         61.2  ...  0.213  0.358   \n",
       "1                0.7         12     1626         53.9  ...  0.259  0.439   \n",
       "2                1.1         17     1575         56.1  ...  0.202  0.357   \n",
       "3                0.5          8     1698         51.9  ...  0.221  0.420   \n",
       "4                0.6          9     1572         51.0  ...  0.236  0.442   \n",
       "\n",
       "    woba  whiff_percent  k_percent  put_away  est_ba  est_slg  est_woba  \\\n",
       "0  0.290           27.9       30.5      24.1   0.206    0.347     0.278   \n",
       "1  0.337           23.7       22.5      20.5   0.261    0.444     0.339   \n",
       "2  0.289           19.6       18.4      17.4   0.241    0.450     0.336   \n",
       "3  0.313           28.9       33.8      24.8   0.216    0.398     0.300   \n",
       "4  0.341           21.1       21.6      19.8   0.249    0.466     0.357   \n",
       "\n",
       "   hard_hit_percent  \n",
       "0              44.8  \n",
       "1              50.5  \n",
       "2              46.9  \n",
       "3              47.6  \n",
       "4              48.8  \n",
       "\n",
       "[5 rows x 21 columns]"
      ]
     },
     "execution_count": 255,
     "metadata": {},
     "output_type": "execute_result"
    }
   ],
   "source": [
    "df_whiff = pd.read_csv('pitch-arsenal-stats.csv')\n",
    "df_spinrate = pd.read_csv('pitch_arsenals.csv')\n",
    "\n",
    "df_whiff.head()"
   ]
  },
  {
   "cell_type": "code",
   "execution_count": 256,
   "metadata": {},
   "outputs": [],
   "source": [
    "# These files contained more data then I wanted to look at so I had to filter them out and focus jsut of whiff% and avg spin rate"
   ]
  },
  {
   "cell_type": "code",
   "execution_count": 257,
   "metadata": {},
   "outputs": [],
   "source": [
    "columns_to_drop = list(range(2,5)) + list(range(6,14)) + list(range(15,21))"
   ]
  },
  {
   "cell_type": "code",
   "execution_count": 258,
   "metadata": {},
   "outputs": [],
   "source": [
    "df_whiff.drop(df_whiff.columns[columns_to_drop], axis=1, inplace=True)"
   ]
  },
  {
   "cell_type": "code",
   "execution_count": 259,
   "metadata": {},
   "outputs": [
    {
     "data": {
      "text/html": [
       "<div>\n",
       "<style scoped>\n",
       "    .dataframe tbody tr th:only-of-type {\n",
       "        vertical-align: middle;\n",
       "    }\n",
       "\n",
       "    .dataframe tbody tr th {\n",
       "        vertical-align: top;\n",
       "    }\n",
       "\n",
       "    .dataframe thead th {\n",
       "        text-align: right;\n",
       "    }\n",
       "</style>\n",
       "<table border=\"1\" class=\"dataframe\">\n",
       "  <thead>\n",
       "    <tr style=\"text-align: right;\">\n",
       "      <th></th>\n",
       "      <th>last_name</th>\n",
       "      <th>first_name</th>\n",
       "      <th>pitch_name</th>\n",
       "      <th>whiff_percent</th>\n",
       "    </tr>\n",
       "  </thead>\n",
       "  <tbody>\n",
       "    <tr>\n",
       "      <th>0</th>\n",
       "      <td>Rodón</td>\n",
       "      <td>Carlos</td>\n",
       "      <td>4-Seamer</td>\n",
       "      <td>27.9</td>\n",
       "    </tr>\n",
       "    <tr>\n",
       "      <th>1</th>\n",
       "      <td>Gilbert</td>\n",
       "      <td>Logan</td>\n",
       "      <td>4-Seamer</td>\n",
       "      <td>23.7</td>\n",
       "    </tr>\n",
       "    <tr>\n",
       "      <th>2</th>\n",
       "      <td>McKenzie</td>\n",
       "      <td>Triston</td>\n",
       "      <td>4-Seamer</td>\n",
       "      <td>19.6</td>\n",
       "    </tr>\n",
       "    <tr>\n",
       "      <th>3</th>\n",
       "      <td>Cole</td>\n",
       "      <td>Gerrit</td>\n",
       "      <td>4-Seamer</td>\n",
       "      <td>28.9</td>\n",
       "    </tr>\n",
       "    <tr>\n",
       "      <th>4</th>\n",
       "      <td>Pivetta</td>\n",
       "      <td>Nick</td>\n",
       "      <td>4-Seamer</td>\n",
       "      <td>21.1</td>\n",
       "    </tr>\n",
       "  </tbody>\n",
       "</table>\n",
       "</div>"
      ],
      "text/plain": [
       "  last_name  first_name pitch_name  whiff_percent\n",
       "0     Rodón      Carlos   4-Seamer           27.9\n",
       "1   Gilbert       Logan   4-Seamer           23.7\n",
       "2  McKenzie     Triston   4-Seamer           19.6\n",
       "3      Cole      Gerrit   4-Seamer           28.9\n",
       "4   Pivetta        Nick   4-Seamer           21.1"
      ]
     },
     "execution_count": 259,
     "metadata": {},
     "output_type": "execute_result"
    }
   ],
   "source": [
    "df_whiff.head()"
   ]
  },
  {
   "cell_type": "code",
   "execution_count": 260,
   "metadata": {},
   "outputs": [
    {
     "data": {
      "text/html": [
       "<div>\n",
       "<style scoped>\n",
       "    .dataframe tbody tr th:only-of-type {\n",
       "        vertical-align: middle;\n",
       "    }\n",
       "\n",
       "    .dataframe tbody tr th {\n",
       "        vertical-align: top;\n",
       "    }\n",
       "\n",
       "    .dataframe thead th {\n",
       "        text-align: right;\n",
       "    }\n",
       "</style>\n",
       "<table border=\"1\" class=\"dataframe\">\n",
       "  <thead>\n",
       "    <tr style=\"text-align: right;\">\n",
       "      <th></th>\n",
       "      <th>last_name</th>\n",
       "      <th>first_name</th>\n",
       "      <th>pitcher</th>\n",
       "      <th>ff_avg_spin</th>\n",
       "      <th>si_avg_spin</th>\n",
       "      <th>fc_avg_spin</th>\n",
       "      <th>sl_avg_spin</th>\n",
       "      <th>ch_avg_spin</th>\n",
       "      <th>cu_avg_spin</th>\n",
       "      <th>fs_avg_spin</th>\n",
       "      <th>kn_avg_spin</th>\n",
       "      <th>st_avg_spin</th>\n",
       "      <th>sv_avg_spin</th>\n",
       "    </tr>\n",
       "  </thead>\n",
       "  <tbody>\n",
       "    <tr>\n",
       "      <th>0</th>\n",
       "      <td>Cole</td>\n",
       "      <td>Gerrit</td>\n",
       "      <td>543037</td>\n",
       "      <td>2424.0</td>\n",
       "      <td>NaN</td>\n",
       "      <td>2526.0</td>\n",
       "      <td>2551.0</td>\n",
       "      <td>1579.0</td>\n",
       "      <td>2790.0</td>\n",
       "      <td>NaN</td>\n",
       "      <td>NaN</td>\n",
       "      <td>NaN</td>\n",
       "      <td>NaN</td>\n",
       "    </tr>\n",
       "    <tr>\n",
       "      <th>1</th>\n",
       "      <td>Keller</td>\n",
       "      <td>Mitch</td>\n",
       "      <td>656605</td>\n",
       "      <td>2378.0</td>\n",
       "      <td>2377.0</td>\n",
       "      <td>2460.0</td>\n",
       "      <td>NaN</td>\n",
       "      <td>1648.0</td>\n",
       "      <td>2602.0</td>\n",
       "      <td>NaN</td>\n",
       "      <td>NaN</td>\n",
       "      <td>2766.0</td>\n",
       "      <td>NaN</td>\n",
       "    </tr>\n",
       "    <tr>\n",
       "      <th>2</th>\n",
       "      <td>Cease</td>\n",
       "      <td>Dylan</td>\n",
       "      <td>656302</td>\n",
       "      <td>2512.0</td>\n",
       "      <td>NaN</td>\n",
       "      <td>NaN</td>\n",
       "      <td>2793.0</td>\n",
       "      <td>1696.0</td>\n",
       "      <td>2634.0</td>\n",
       "      <td>NaN</td>\n",
       "      <td>NaN</td>\n",
       "      <td>NaN</td>\n",
       "      <td>NaN</td>\n",
       "    </tr>\n",
       "    <tr>\n",
       "      <th>3</th>\n",
       "      <td>Lynn</td>\n",
       "      <td>Lance</td>\n",
       "      <td>458681</td>\n",
       "      <td>2430.0</td>\n",
       "      <td>2261.0</td>\n",
       "      <td>2584.0</td>\n",
       "      <td>2460.0</td>\n",
       "      <td>1814.0</td>\n",
       "      <td>2507.0</td>\n",
       "      <td>NaN</td>\n",
       "      <td>NaN</td>\n",
       "      <td>2510.0</td>\n",
       "      <td>NaN</td>\n",
       "    </tr>\n",
       "    <tr>\n",
       "      <th>4</th>\n",
       "      <td>Webb</td>\n",
       "      <td>Logan</td>\n",
       "      <td>657277</td>\n",
       "      <td>1988.0</td>\n",
       "      <td>1876.0</td>\n",
       "      <td>NaN</td>\n",
       "      <td>2557.0</td>\n",
       "      <td>1489.0</td>\n",
       "      <td>NaN</td>\n",
       "      <td>NaN</td>\n",
       "      <td>NaN</td>\n",
       "      <td>NaN</td>\n",
       "      <td>NaN</td>\n",
       "    </tr>\n",
       "  </tbody>\n",
       "</table>\n",
       "</div>"
      ],
      "text/plain": [
       "  last_name  first_name  pitcher  ff_avg_spin  si_avg_spin  fc_avg_spin  \\\n",
       "0      Cole      Gerrit   543037       2424.0          NaN       2526.0   \n",
       "1    Keller       Mitch   656605       2378.0       2377.0       2460.0   \n",
       "2     Cease       Dylan   656302       2512.0          NaN          NaN   \n",
       "3      Lynn       Lance   458681       2430.0       2261.0       2584.0   \n",
       "4      Webb       Logan   657277       1988.0       1876.0          NaN   \n",
       "\n",
       "   sl_avg_spin  ch_avg_spin  cu_avg_spin  fs_avg_spin  kn_avg_spin  \\\n",
       "0       2551.0       1579.0       2790.0          NaN          NaN   \n",
       "1          NaN       1648.0       2602.0          NaN          NaN   \n",
       "2       2793.0       1696.0       2634.0          NaN          NaN   \n",
       "3       2460.0       1814.0       2507.0          NaN          NaN   \n",
       "4       2557.0       1489.0          NaN          NaN          NaN   \n",
       "\n",
       "   st_avg_spin  sv_avg_spin  \n",
       "0          NaN          NaN  \n",
       "1       2766.0          NaN  \n",
       "2          NaN          NaN  \n",
       "3       2510.0          NaN  \n",
       "4          NaN          NaN  "
      ]
     },
     "execution_count": 260,
     "metadata": {},
     "output_type": "execute_result"
    }
   ],
   "source": [
    "df_spinrate.head()"
   ]
  },
  {
   "cell_type": "code",
   "execution_count": 261,
   "metadata": {},
   "outputs": [],
   "source": [
    "columns_to_drop2 = list(range(4,13))\n",
    "df_spinrate.drop(df_spinrate.columns[columns_to_drop2], axis=1, inplace=True)"
   ]
  },
  {
   "cell_type": "code",
   "execution_count": 262,
   "metadata": {},
   "outputs": [],
   "source": [
    "df_spinrate.drop(df_spinrate.columns[[2]], axis = 1, inplace = True)"
   ]
  },
  {
   "cell_type": "code",
   "execution_count": 263,
   "metadata": {},
   "outputs": [
    {
     "data": {
      "text/html": [
       "<div>\n",
       "<style scoped>\n",
       "    .dataframe tbody tr th:only-of-type {\n",
       "        vertical-align: middle;\n",
       "    }\n",
       "\n",
       "    .dataframe tbody tr th {\n",
       "        vertical-align: top;\n",
       "    }\n",
       "\n",
       "    .dataframe thead th {\n",
       "        text-align: right;\n",
       "    }\n",
       "</style>\n",
       "<table border=\"1\" class=\"dataframe\">\n",
       "  <thead>\n",
       "    <tr style=\"text-align: right;\">\n",
       "      <th></th>\n",
       "      <th>last_name</th>\n",
       "      <th>first_name</th>\n",
       "      <th>ff_avg_spin</th>\n",
       "    </tr>\n",
       "  </thead>\n",
       "  <tbody>\n",
       "    <tr>\n",
       "      <th>0</th>\n",
       "      <td>Cole</td>\n",
       "      <td>Gerrit</td>\n",
       "      <td>2424.0</td>\n",
       "    </tr>\n",
       "    <tr>\n",
       "      <th>1</th>\n",
       "      <td>Keller</td>\n",
       "      <td>Mitch</td>\n",
       "      <td>2378.0</td>\n",
       "    </tr>\n",
       "    <tr>\n",
       "      <th>2</th>\n",
       "      <td>Cease</td>\n",
       "      <td>Dylan</td>\n",
       "      <td>2512.0</td>\n",
       "    </tr>\n",
       "    <tr>\n",
       "      <th>3</th>\n",
       "      <td>Lynn</td>\n",
       "      <td>Lance</td>\n",
       "      <td>2430.0</td>\n",
       "    </tr>\n",
       "    <tr>\n",
       "      <th>4</th>\n",
       "      <td>Webb</td>\n",
       "      <td>Logan</td>\n",
       "      <td>1988.0</td>\n",
       "    </tr>\n",
       "  </tbody>\n",
       "</table>\n",
       "</div>"
      ],
      "text/plain": [
       "  last_name  first_name  ff_avg_spin\n",
       "0      Cole      Gerrit       2424.0\n",
       "1    Keller       Mitch       2378.0\n",
       "2     Cease       Dylan       2512.0\n",
       "3      Lynn       Lance       2430.0\n",
       "4      Webb       Logan       1988.0"
      ]
     },
     "execution_count": 263,
     "metadata": {},
     "output_type": "execute_result"
    }
   ],
   "source": [
    "df_spinrate.head()"
   ]
  },
  {
   "cell_type": "code",
   "execution_count": 264,
   "metadata": {},
   "outputs": [],
   "source": [
    "df_spinrate.to_csv('df_spinrate.csv', index = False)"
   ]
  },
  {
   "cell_type": "code",
   "execution_count": 265,
   "metadata": {},
   "outputs": [],
   "source": [
    "df_whiff.to_csv('df_whiff.csv', index = False)"
   ]
  },
  {
   "cell_type": "code",
   "execution_count": 266,
   "metadata": {},
   "outputs": [],
   "source": [
    "# After turing each filtered dataframe back into .csv files, I merged them together keeping the first and last name\n",
    "# of the pitchers to match their individual stats up"
   ]
  },
  {
   "cell_type": "code",
   "execution_count": 267,
   "metadata": {},
   "outputs": [],
   "source": [
    "merged_df = pd.merge(df_whiff[[' first_name', 'last_name', 'pitch_name', 'whiff_percent']], \n",
    "                     df_spinrate[[' first_name', 'last_name', 'ff_avg_spin']], \n",
    "                     how='inner', \n",
    "                     left_on=[' first_name', 'last_name'], \n",
    "                     right_on=[' first_name', 'last_name'])"
   ]
  },
  {
   "cell_type": "code",
   "execution_count": 268,
   "metadata": {},
   "outputs": [
    {
     "data": {
      "text/html": [
       "<div>\n",
       "<style scoped>\n",
       "    .dataframe tbody tr th:only-of-type {\n",
       "        vertical-align: middle;\n",
       "    }\n",
       "\n",
       "    .dataframe tbody tr th {\n",
       "        vertical-align: top;\n",
       "    }\n",
       "\n",
       "    .dataframe thead th {\n",
       "        text-align: right;\n",
       "    }\n",
       "</style>\n",
       "<table border=\"1\" class=\"dataframe\">\n",
       "  <thead>\n",
       "    <tr style=\"text-align: right;\">\n",
       "      <th></th>\n",
       "      <th>first_name</th>\n",
       "      <th>last_name</th>\n",
       "      <th>pitch_name</th>\n",
       "      <th>whiff_percent</th>\n",
       "      <th>ff_avg_spin</th>\n",
       "    </tr>\n",
       "  </thead>\n",
       "  <tbody>\n",
       "    <tr>\n",
       "      <th>0</th>\n",
       "      <td>Carlos</td>\n",
       "      <td>Rodón</td>\n",
       "      <td>4-Seamer</td>\n",
       "      <td>27.9</td>\n",
       "      <td>2343.0</td>\n",
       "    </tr>\n",
       "    <tr>\n",
       "      <th>1</th>\n",
       "      <td>Logan</td>\n",
       "      <td>Gilbert</td>\n",
       "      <td>4-Seamer</td>\n",
       "      <td>23.7</td>\n",
       "      <td>1992.0</td>\n",
       "    </tr>\n",
       "    <tr>\n",
       "      <th>2</th>\n",
       "      <td>Triston</td>\n",
       "      <td>McKenzie</td>\n",
       "      <td>4-Seamer</td>\n",
       "      <td>19.6</td>\n",
       "      <td>2297.0</td>\n",
       "    </tr>\n",
       "    <tr>\n",
       "      <th>3</th>\n",
       "      <td>Gerrit</td>\n",
       "      <td>Cole</td>\n",
       "      <td>4-Seamer</td>\n",
       "      <td>28.9</td>\n",
       "      <td>2424.0</td>\n",
       "    </tr>\n",
       "    <tr>\n",
       "      <th>4</th>\n",
       "      <td>Nick</td>\n",
       "      <td>Pivetta</td>\n",
       "      <td>4-Seamer</td>\n",
       "      <td>21.1</td>\n",
       "      <td>2337.0</td>\n",
       "    </tr>\n",
       "    <tr>\n",
       "      <th>...</th>\n",
       "      <td>...</td>\n",
       "      <td>...</td>\n",
       "      <td>...</td>\n",
       "      <td>...</td>\n",
       "      <td>...</td>\n",
       "    </tr>\n",
       "    <tr>\n",
       "      <th>194</th>\n",
       "      <td>Erik</td>\n",
       "      <td>Swanson</td>\n",
       "      <td>4-Seamer</td>\n",
       "      <td>29.3</td>\n",
       "      <td>2276.0</td>\n",
       "    </tr>\n",
       "    <tr>\n",
       "      <th>195</th>\n",
       "      <td>Patrick</td>\n",
       "      <td>Corbin</td>\n",
       "      <td>4-Seamer</td>\n",
       "      <td>13.4</td>\n",
       "      <td>2096.0</td>\n",
       "    </tr>\n",
       "    <tr>\n",
       "      <th>196</th>\n",
       "      <td>Penn</td>\n",
       "      <td>Murfee</td>\n",
       "      <td>4-Seamer</td>\n",
       "      <td>20.8</td>\n",
       "      <td>2228.0</td>\n",
       "    </tr>\n",
       "    <tr>\n",
       "      <th>197</th>\n",
       "      <td>Adrian</td>\n",
       "      <td>Morejon</td>\n",
       "      <td>4-Seamer</td>\n",
       "      <td>21.8</td>\n",
       "      <td>2448.0</td>\n",
       "    </tr>\n",
       "    <tr>\n",
       "      <th>198</th>\n",
       "      <td>Domingo</td>\n",
       "      <td>Acevedo</td>\n",
       "      <td>4-Seamer</td>\n",
       "      <td>20.9</td>\n",
       "      <td>2033.0</td>\n",
       "    </tr>\n",
       "  </tbody>\n",
       "</table>\n",
       "<p>199 rows × 5 columns</p>\n",
       "</div>"
      ],
      "text/plain": [
       "     first_name last_name pitch_name  whiff_percent  ff_avg_spin\n",
       "0        Carlos     Rodón   4-Seamer           27.9       2343.0\n",
       "1         Logan   Gilbert   4-Seamer           23.7       1992.0\n",
       "2       Triston  McKenzie   4-Seamer           19.6       2297.0\n",
       "3        Gerrit      Cole   4-Seamer           28.9       2424.0\n",
       "4          Nick   Pivetta   4-Seamer           21.1       2337.0\n",
       "..          ...       ...        ...            ...          ...\n",
       "194        Erik   Swanson   4-Seamer           29.3       2276.0\n",
       "195     Patrick    Corbin   4-Seamer           13.4       2096.0\n",
       "196        Penn    Murfee   4-Seamer           20.8       2228.0\n",
       "197      Adrian   Morejon   4-Seamer           21.8       2448.0\n",
       "198     Domingo   Acevedo   4-Seamer           20.9       2033.0\n",
       "\n",
       "[199 rows x 5 columns]"
      ]
     },
     "execution_count": 268,
     "metadata": {},
     "output_type": "execute_result"
    }
   ],
   "source": [
    "merged_df"
   ]
  },
  {
   "cell_type": "code",
   "execution_count": 269,
   "metadata": {},
   "outputs": [],
   "source": [
    "# Grabbing a basic summary of the values that were present to get a range of numbers"
   ]
  },
  {
   "cell_type": "code",
   "execution_count": 270,
   "metadata": {},
   "outputs": [],
   "source": [
    "desc_stats = merged_df[['ff_avg_spin', 'whiff_percent']].describe()"
   ]
  },
  {
   "cell_type": "code",
   "execution_count": 271,
   "metadata": {},
   "outputs": [],
   "source": [
    "# Finding how related whiff% and avg spin rate are"
   ]
  },
  {
   "cell_type": "code",
   "execution_count": 272,
   "metadata": {},
   "outputs": [],
   "source": [
    "corrolation_matrix = merged_df[['whiff_percent', 'ff_avg_spin']].corr()"
   ]
  },
  {
   "cell_type": "code",
   "execution_count": 273,
   "metadata": {},
   "outputs": [],
   "source": [
    "pearson_corr, p_value = stats.pearsonr(merged_df['ff_avg_spin'], merged_df['whiff_percent'])"
   ]
  },
  {
   "cell_type": "code",
   "execution_count": 274,
   "metadata": {},
   "outputs": [],
   "source": [
    "# Printed numbers of the statistical analysis"
   ]
  },
  {
   "cell_type": "code",
   "execution_count": 275,
   "metadata": {},
   "outputs": [
    {
     "data": {
      "text/plain": [
       "(       ff_avg_spin  whiff_percent\n",
       " count   199.000000     199.000000\n",
       " mean   2287.090452      22.057286\n",
       " std     141.921524       5.376514\n",
       " min    1948.000000       9.900000\n",
       " 25%    2198.500000      18.100000\n",
       " 50%    2283.000000      21.800000\n",
       " 75%    2379.500000      25.850000\n",
       " max    2661.000000      35.900000,\n",
       "                whiff_percent  ff_avg_spin\n",
       " whiff_percent       1.000000     0.303322\n",
       " ff_avg_spin         0.303322     1.000000,\n",
       " 0.30332209315711844,\n",
       " 1.3308468385392651e-05)"
      ]
     },
     "execution_count": 275,
     "metadata": {},
     "output_type": "execute_result"
    }
   ],
   "source": [
    "desc_stats, corrolation_matrix, pearson_corr, p_value"
   ]
  },
  {
   "cell_type": "code",
   "execution_count": 276,
   "metadata": {},
   "outputs": [],
   "source": [
    "# Begining to create a line of regression to analyze the corrolation between whiff% and avg spin rate"
   ]
  },
  {
   "cell_type": "code",
   "execution_count": 277,
   "metadata": {},
   "outputs": [],
   "source": [
    "X = merged_df[['ff_avg_spin']]  # Independent variable (Feature)\n",
    "y = merged_df['whiff_percent']  # Dependent variable (Target)"
   ]
  },
  {
   "cell_type": "code",
   "execution_count": 278,
   "metadata": {},
   "outputs": [
    {
     "data": {
      "text/html": [
       "<style>#sk-container-id-5 {color: black;}#sk-container-id-5 pre{padding: 0;}#sk-container-id-5 div.sk-toggleable {background-color: white;}#sk-container-id-5 label.sk-toggleable__label {cursor: pointer;display: block;width: 100%;margin-bottom: 0;padding: 0.3em;box-sizing: border-box;text-align: center;}#sk-container-id-5 label.sk-toggleable__label-arrow:before {content: \"▸\";float: left;margin-right: 0.25em;color: #696969;}#sk-container-id-5 label.sk-toggleable__label-arrow:hover:before {color: black;}#sk-container-id-5 div.sk-estimator:hover label.sk-toggleable__label-arrow:before {color: black;}#sk-container-id-5 div.sk-toggleable__content {max-height: 0;max-width: 0;overflow: hidden;text-align: left;background-color: #f0f8ff;}#sk-container-id-5 div.sk-toggleable__content pre {margin: 0.2em;color: black;border-radius: 0.25em;background-color: #f0f8ff;}#sk-container-id-5 input.sk-toggleable__control:checked~div.sk-toggleable__content {max-height: 200px;max-width: 100%;overflow: auto;}#sk-container-id-5 input.sk-toggleable__control:checked~label.sk-toggleable__label-arrow:before {content: \"▾\";}#sk-container-id-5 div.sk-estimator input.sk-toggleable__control:checked~label.sk-toggleable__label {background-color: #d4ebff;}#sk-container-id-5 div.sk-label input.sk-toggleable__control:checked~label.sk-toggleable__label {background-color: #d4ebff;}#sk-container-id-5 input.sk-hidden--visually {border: 0;clip: rect(1px 1px 1px 1px);clip: rect(1px, 1px, 1px, 1px);height: 1px;margin: -1px;overflow: hidden;padding: 0;position: absolute;width: 1px;}#sk-container-id-5 div.sk-estimator {font-family: monospace;background-color: #f0f8ff;border: 1px dotted black;border-radius: 0.25em;box-sizing: border-box;margin-bottom: 0.5em;}#sk-container-id-5 div.sk-estimator:hover {background-color: #d4ebff;}#sk-container-id-5 div.sk-parallel-item::after {content: \"\";width: 100%;border-bottom: 1px solid gray;flex-grow: 1;}#sk-container-id-5 div.sk-label:hover label.sk-toggleable__label {background-color: #d4ebff;}#sk-container-id-5 div.sk-serial::before {content: \"\";position: absolute;border-left: 1px solid gray;box-sizing: border-box;top: 0;bottom: 0;left: 50%;z-index: 0;}#sk-container-id-5 div.sk-serial {display: flex;flex-direction: column;align-items: center;background-color: white;padding-right: 0.2em;padding-left: 0.2em;position: relative;}#sk-container-id-5 div.sk-item {position: relative;z-index: 1;}#sk-container-id-5 div.sk-parallel {display: flex;align-items: stretch;justify-content: center;background-color: white;position: relative;}#sk-container-id-5 div.sk-item::before, #sk-container-id-5 div.sk-parallel-item::before {content: \"\";position: absolute;border-left: 1px solid gray;box-sizing: border-box;top: 0;bottom: 0;left: 50%;z-index: -1;}#sk-container-id-5 div.sk-parallel-item {display: flex;flex-direction: column;z-index: 1;position: relative;background-color: white;}#sk-container-id-5 div.sk-parallel-item:first-child::after {align-self: flex-end;width: 50%;}#sk-container-id-5 div.sk-parallel-item:last-child::after {align-self: flex-start;width: 50%;}#sk-container-id-5 div.sk-parallel-item:only-child::after {width: 0;}#sk-container-id-5 div.sk-dashed-wrapped {border: 1px dashed gray;margin: 0 0.4em 0.5em 0.4em;box-sizing: border-box;padding-bottom: 0.4em;background-color: white;}#sk-container-id-5 div.sk-label label {font-family: monospace;font-weight: bold;display: inline-block;line-height: 1.2em;}#sk-container-id-5 div.sk-label-container {text-align: center;}#sk-container-id-5 div.sk-container {/* jupyter's `normalize.less` sets `[hidden] { display: none; }` but bootstrap.min.css set `[hidden] { display: none !important; }` so we also need the `!important` here to be able to override the default hidden behavior on the sphinx rendered scikit-learn.org. See: https://github.com/scikit-learn/scikit-learn/issues/21755 */display: inline-block !important;position: relative;}#sk-container-id-5 div.sk-text-repr-fallback {display: none;}</style><div id=\"sk-container-id-5\" class=\"sk-top-container\"><div class=\"sk-text-repr-fallback\"><pre>LinearRegression()</pre><b>In a Jupyter environment, please rerun this cell to show the HTML representation or trust the notebook. <br />On GitHub, the HTML representation is unable to render, please try loading this page with nbviewer.org.</b></div><div class=\"sk-container\" hidden><div class=\"sk-item\"><div class=\"sk-estimator sk-toggleable\"><input class=\"sk-toggleable__control sk-hidden--visually\" id=\"sk-estimator-id-5\" type=\"checkbox\" checked><label for=\"sk-estimator-id-5\" class=\"sk-toggleable__label sk-toggleable__label-arrow\">LinearRegression</label><div class=\"sk-toggleable__content\"><pre>LinearRegression()</pre></div></div></div></div></div>"
      ],
      "text/plain": [
       "LinearRegression()"
      ]
     },
     "execution_count": 278,
     "metadata": {},
     "output_type": "execute_result"
    }
   ],
   "source": [
    "model = LinearRegression()\n",
    "model.fit(X, y)"
   ]
  },
  {
   "cell_type": "code",
   "execution_count": 279,
   "metadata": {},
   "outputs": [],
   "source": [
    "# Asking the model to predict whiff% based on avg spin rate"
   ]
  },
  {
   "cell_type": "code",
   "execution_count": 280,
   "metadata": {},
   "outputs": [],
   "source": [
    "y_pred = model.predict(X)"
   ]
  },
  {
   "cell_type": "code",
   "execution_count": 281,
   "metadata": {},
   "outputs": [],
   "source": [
    "slope = model.coef_[0]\n",
    "intercept = model.intercept_"
   ]
  },
  {
   "cell_type": "code",
   "execution_count": 282,
   "metadata": {},
   "outputs": [
    {
     "data": {
      "image/png": "[encoded data removed]",
      "text/plain": [
       "<Figure size 1000x600 with 1 Axes>"
      ]
     },
     "metadata": {},
     "output_type": "display_data"
    }
   ],
   "source": [
    "plt.figure(figsize=(10, 6))\n",
    "plt.scatter(X, y, color='blue', label='Actual Data')\n",
    "plt.plot(X, y_pred, color='red', label=f'Regression Line\\ny = {slope:.4f}x + {intercept:.4f}')\n",
    "plt.xlabel('Average Spin Rate (RPM)')\n",
    "plt.ylabel('Whiff Percentage (%)')\n",
    "plt.title('Regression Analysis: Whiff% vs Spin Rate')\n",
    "plt.legend()\n",
    "plt.show()"
   ]
  },
  {
   "cell_type": "code",
   "execution_count": 283,
   "metadata": {},
   "outputs": [],
   "source": [
    "# This visualisation shows that the relationship between whiff% and avg spin rate is postive, meaning there\n",
    "# is some corrolation when avg spin rate gopes up then whiff% goes up as well, thus creating some truth to my hypothesis"
   ]
  },
  {
   "cell_type": "code",
   "execution_count": 284,
   "metadata": {},
   "outputs": [
    {
     "data": {
      "text/plain": [
       "(0.011490966678334411, -4.223593745110641)"
      ]
     },
     "execution_count": 284,
     "metadata": {},
     "output_type": "execute_result"
    }
   ],
   "source": [
    "slope, intercept"
   ]
  }
 ],
 "metadata": {
  "kernelspec": {
   "display_name": "Python 3",
   "language": "python",
   "name": "python3"
  },
  "language_info": {
   "codemirror_mode": {
    "name": "ipython",
    "version": 3
   },
   "file_extension": ".py",
   "mimetype": "text/x-python",
   "name": "python",
   "nbconvert_exporter": "python",
   "pygments_lexer": "ipython3",
   "version": "3.11.4"
  },
  "orig_nbformat": 4
 },
 "nbformat": 4,
 "nbformat_minor": 2
}
